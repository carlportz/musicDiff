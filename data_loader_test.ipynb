{
 "cells": [
  {
   "cell_type": "code",
   "execution_count": 1,
   "metadata": {},
   "outputs": [],
   "source": [
    "import numpy as np\n",
    "import torch\n",
    "from torch.utils.data import Dataset, DataLoader\n",
    "import torchvision.transforms as transforms\n",
    "import os"
   ]
  },
  {
   "cell_type": "code",
   "execution_count": 90,
   "metadata": {},
   "outputs": [],
   "source": [
    "class CustomDataset(Dataset):\n",
    "    def __init__(self, path_to_npz_files, polar=False, transforms=None):\n",
    "        self.transforms = transforms\n",
    "        self.data = []\n",
    "        for npz_file in sorted(os.listdir(path_to_npz_files)):\n",
    "            data = np.load(os.path.join(path_to_npz_files, npz_file))\n",
    "            data = data['q_nm']\n",
    "            if polar:\n",
    "                data = np.array([np.abs(data), np.angle(data)])\n",
    "            else:\n",
    "                data = np.array([data.real, data.imag])\n",
    "            data = np.transpose(data, (1, 2, 0)) # (width, height, channels)\n",
    "            self.data.append(data)\n",
    "        self.data = np.array(self.data)\n",
    "\n",
    "    def __len__(self):\n",
    "        return len(self.data)\n",
    "\n",
    "    def __getitem__(self, idx):\n",
    "        return self.transforms(self.data[idx]) if self.transforms is not None else self.data[idx]"
   ]
  },
  {
   "cell_type": "code",
   "execution_count": 78,
   "metadata": {},
   "outputs": [],
   "source": [
    "tfms = transforms.Compose([\n",
    "    transforms.ToTensor(), # convert to tensor of shape (channels, width, height)\n",
    "    transforms.Resize((128, 128)),\n",
    "    transforms.Lambda(lambda x: x / torch.max(torch.norm(x, dim=0))) # normalize data by largest norm across all channels\n",
    "])"
   ]
  },
  {
   "cell_type": "code",
   "execution_count": 127,
   "metadata": {},
   "outputs": [],
   "source": [
    "tfms_polar = transforms.Compose([\n",
    "    transforms.ToTensor(), # convert to tensor of shape (channels, width, height)\n",
    "    transforms.Resize((128, 128)),\n",
    "    transforms.Lambda(lambda x: torch.stack([\n",
    "        (x[0] / torch.max(torch.abs(x[0])) - 0.5) * 2, # normalize amplitude to [-1, 1]\n",
    "        x[1] / torch.max(torch.abs(x[1])) # normalize phase to [-1, 1]\n",
    "    ]))\n",
    "])"
   ]
  },
  {
   "cell_type": "code",
   "execution_count": 128,
   "metadata": {},
   "outputs": [],
   "source": [
    "path_to_npz_files = './data/training_npz'\n",
    "dataset = CustomDataset(path_to_npz_files, polar=True, transforms=tfms_polar)"
   ]
  },
  {
   "cell_type": "code",
   "execution_count": 129,
   "metadata": {},
   "outputs": [],
   "source": [
    "dataloader = DataLoader(dataset, batch_size=16, shuffle=False, num_workers=0)"
   ]
  },
  {
   "cell_type": "code",
   "execution_count": 130,
   "metadata": {},
   "outputs": [
    {
     "name": "stdout",
     "output_type": "stream",
     "text": [
      "Batch 0: Data shape torch.Size([16, 2, 128, 128])\n",
      "tensor(-0.9999, dtype=torch.float64) tensor(1., dtype=torch.float64)\n",
      "tensor(-1., dtype=torch.float64) tensor(1., dtype=torch.float64)\n",
      "Batch 1: Data shape torch.Size([16, 2, 128, 128])\n",
      "tensor(-0.9999, dtype=torch.float64) tensor(1., dtype=torch.float64)\n",
      "tensor(-1., dtype=torch.float64) tensor(1., dtype=torch.float64)\n",
      "Batch 2: Data shape torch.Size([16, 2, 128, 128])\n",
      "tensor(-0.9999, dtype=torch.float64) tensor(1., dtype=torch.float64)\n",
      "tensor(-1., dtype=torch.float64) tensor(1., dtype=torch.float64)\n",
      "Batch 3: Data shape torch.Size([16, 2, 128, 128])\n",
      "tensor(-1.0000, dtype=torch.float64) tensor(1., dtype=torch.float64)\n",
      "tensor(-1., dtype=torch.float64) tensor(1., dtype=torch.float64)\n",
      "Batch 4: Data shape torch.Size([16, 2, 128, 128])\n",
      "tensor(-1.0000, dtype=torch.float64) tensor(1., dtype=torch.float64)\n",
      "tensor(-1., dtype=torch.float64) tensor(1., dtype=torch.float64)\n",
      "Batch 5: Data shape torch.Size([16, 2, 128, 128])\n",
      "tensor(-0.9999, dtype=torch.float64) tensor(1., dtype=torch.float64)\n",
      "tensor(-1., dtype=torch.float64) tensor(1., dtype=torch.float64)\n",
      "Batch 6: Data shape torch.Size([16, 2, 128, 128])\n",
      "tensor(-0.9999, dtype=torch.float64) tensor(1., dtype=torch.float64)\n",
      "tensor(-1., dtype=torch.float64) tensor(1., dtype=torch.float64)\n",
      "Batch 7: Data shape torch.Size([16, 2, 128, 128])\n",
      "tensor(-0.9999, dtype=torch.float64) tensor(1., dtype=torch.float64)\n",
      "tensor(-1., dtype=torch.float64) tensor(1., dtype=torch.float64)\n",
      "Batch 8: Data shape torch.Size([16, 2, 128, 128])\n",
      "tensor(-1.0000, dtype=torch.float64) tensor(1., dtype=torch.float64)\n",
      "tensor(-1., dtype=torch.float64) tensor(1., dtype=torch.float64)\n",
      "Batch 9: Data shape torch.Size([16, 2, 128, 128])\n",
      "tensor(-1.0000, dtype=torch.float64) tensor(1., dtype=torch.float64)\n",
      "tensor(-1., dtype=torch.float64) tensor(1., dtype=torch.float64)\n",
      "Batch 10: Data shape torch.Size([16, 2, 128, 128])\n",
      "tensor(-1.0000, dtype=torch.float64) tensor(1., dtype=torch.float64)\n",
      "tensor(-1., dtype=torch.float64) tensor(1., dtype=torch.float64)\n",
      "Batch 11: Data shape torch.Size([9, 2, 128, 128])\n",
      "tensor(-1.0000, dtype=torch.float64) tensor(1., dtype=torch.float64)\n",
      "tensor(-1., dtype=torch.float64) tensor(1., dtype=torch.float64)\n"
     ]
    }
   ],
   "source": [
    "for batch_idx, data in enumerate(dataloader):\n",
    "    # Your training code here\n",
    "    print(f\"Batch {batch_idx}: Data shape {data.shape}\")\n",
    "    print(torch.min(data[:, 0, :, :]), torch.max(data[:, 0, :, :]))\n",
    "    print(torch.min(data[:, 1, :, :]), torch.max(data[:, 1, :, :]))"
   ]
  }
 ],
 "metadata": {
  "kernelspec": {
   "display_name": "torchenv",
   "language": "python",
   "name": "python3"
  },
  "language_info": {
   "codemirror_mode": {
    "name": "ipython",
    "version": 3
   },
   "file_extension": ".py",
   "mimetype": "text/x-python",
   "name": "python",
   "nbconvert_exporter": "python",
   "pygments_lexer": "ipython3",
   "version": "3.10.5"
  }
 },
 "nbformat": 4,
 "nbformat_minor": 2
}
